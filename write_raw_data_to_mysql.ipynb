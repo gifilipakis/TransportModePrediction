{
 "cells": [
  {
   "cell_type": "code",
   "execution_count": 1,
   "id": "0b17d6e1",
   "metadata": {},
   "outputs": [],
   "source": [
    "import os\n",
    "import pandas as pd\n",
    "import uuid\n",
    "from datetime import datetime\n",
    "import mysql.connector as msql\n",
    "from mysql.connector import Error"
   ]
  },
  {
   "cell_type": "code",
   "execution_count": 2,
   "id": "7dd64eac",
   "metadata": {},
   "outputs": [],
   "source": [
    "sample = \"full\""
   ]
  },
  {
   "cell_type": "code",
   "execution_count": 3,
   "id": "22b5b5d6",
   "metadata": {},
   "outputs": [],
   "source": [
    "def check_labels_file(folder):\n",
    "    subfolders = os.listdir(folder)\n",
    "    dfs = []\n",
    "    for i, sf in enumerate(subfolders):\n",
    "        user_folder = os.path.join(folder,sf)\n",
    "        labels_file = os.path.join(user_folder, 'labels.txt')\n",
    "        if os.path.exists(labels_file):\n",
    "            print('Reading user %s ---------------------------' % (sf))\n",
    "# check_labels_file('Datasets/'+sample+'_sample')"
   ]
  },
  {
   "cell_type": "code",
   "execution_count": 4,
   "id": "100ab247",
   "metadata": {},
   "outputs": [],
   "source": [
    "''' \n",
    "Ao ler os usuários, verificar a existência do arquivo labels.txt\n",
    "'''\n",
    "\n",
    "mydb = msql.connect(\n",
    "  host=\"localhost\",\n",
    "  user=\"root\",\n",
    "  password=\"root\",\n",
    "  database=\"trajectories\"\n",
    ")\n",
    "mycursor = mydb.cursor()\n",
    "\n",
    "def processing_trajectories(folder):\n",
    "    subfolders = os.listdir(folder)\n",
    "    dfs = []\n",
    "    \n",
    "    for i, sf in enumerate(subfolders):\n",
    "        user_folder = os.path.join(folder,sf)\n",
    "        labels_file = os.path.join(user_folder, 'labels.txt')\n",
    "                \n",
    "        u_transport = pd.read_csv(labels_file, sep=\"\\t\")\n",
    "        u_transport['Identifier'] = [str(uuid.uuid1()) for x in range(u_transport.shape[0])]\n",
    "        insert_trajectories_into_db(u_transport)\n",
    "            \n",
    "        plt_files = os.path.join(user_folder, 'Trajectory')\n",
    "        for filename in os.listdir(plt_files): \n",
    "            u_gps_points = pd.read_csv(os.path.join(plt_files, filename), skiprows=6, header=None,\n",
    "                                  parse_dates=[[5, 6]], infer_datetime_format=True)\n",
    "            u_gps_points.rename(inplace=True, columns={'5_6': 'Timestamp', 0: 'Latitude', \n",
    "                                                  1: 'Longitude', 3: 'Altitude'})\n",
    "            u_gps_points.drop(inplace=True, columns=[2, 4])\n",
    "            \n",
    "            u_gps_points_labeled = select_labeled_points(u_transport,u_gps_points)\n",
    "\n",
    "            insert_gpspoints_into_db(u_gps_points_labeled)\n",
    "            \n",
    "def select_labeled_points(transport,gps_points):\n",
    "    gps_points_labeled = pd.DataFrame(columns=['Timestamp', 'Latitude', 'Longitude', 'Altitude', 'Label', 'Identifier'])\n",
    "    count = 1\n",
    "    total = gps_points.shape[0]\n",
    "    for index_transport,row_transport in transport.iterrows():\n",
    "        \n",
    "        identifier = row_transport['Identifier']\n",
    "        start = datetime.strptime(row_transport['Start Time'],'%Y/%m/%d %H:%M:%S')\n",
    "        end = datetime.strptime(row_transport['End Time'],'%Y/%m/%d %H:%M:%S')\n",
    "        label = row_transport['Transportation Mode']\n",
    "        \n",
    "        for index_gps,row_gps in gps_points.iterrows():\n",
    "            if start <= row_gps['Timestamp'] <= end:\n",
    "                \n",
    "                gps_points_labeled.loc[len(gps_points_labeled.index)] = [row_gps['Timestamp'], row_gps['Latitude'],\n",
    "                                                                         row_gps['Longitude'], row_gps['Altitude'],  \n",
    "                                                                         label, identifier]\n",
    "            \n",
    "        count += 1\n",
    "                \n",
    "    return gps_points_labeled\n",
    "    \n",
    "def insert_gpspoints_into_db(gps_points):\n",
    "    count = 1\n",
    "    total = gps_points.shape[0]\n",
    "    for index_gpspoints,row_gpspoints in gps_points.iterrows():                        \n",
    "        try:\n",
    "            if mydb.is_connected():\n",
    "\n",
    "                sql = \"\"\"INSERT INTO trajectories.gpspoints (timestamp, latitude, longitude, altitude, \n",
    "                transport_mode, identifier) VALUES (%s, %s, %s, %s, %s, %s)\"\"\"\n",
    "                val = tuple(row_gpspoints.values)\n",
    "                mycursor.execute(sql, val)\n",
    "\n",
    "                mydb.commit()\n",
    "\n",
    "                count += 1\n",
    "        \n",
    "        except Error as e:\n",
    "            \n",
    "            print(\"Error while connecting to gpspoints:\", e)\n",
    "\n",
    "def insert_trajectories_into_db(transport_df):\n",
    "    count = 1\n",
    "    total = transport_df.shape[0]\n",
    "    for index_transport,row_transport in transport_df.iterrows():\n",
    "                        \n",
    "        try:\n",
    "            if mydb.is_connected():\n",
    "                \n",
    "                sql = \"\"\"INSERT INTO trajectories.trajectories (start, end, transport_mode, identifier) \n",
    "                VALUES (%s, %s, %s, %s)\"\"\"\n",
    "                val = tuple(row_transport.values)\n",
    "                mycursor.execute(sql, val)\n",
    "\n",
    "                mydb.commit()\n",
    "\n",
    "                count += 1\n",
    "        \n",
    "        except Error as e:\n",
    "            \n",
    "            print(\"Error while connecting to trajectories_table:\", e)    "
   ]
  },
  {
   "cell_type": "code",
   "execution_count": 7,
   "id": "89bcf00b",
   "metadata": {
    "scrolled": true
   },
   "outputs": [
    {
     "ename": "KeyboardInterrupt",
     "evalue": "",
     "output_type": "error",
     "traceback": [
      "\u001b[1;31m---------------------------------------------------------------------------\u001b[0m",
      "\u001b[1;31mKeyboardInterrupt\u001b[0m                         Traceback (most recent call last)",
      "Input \u001b[1;32mIn [7]\u001b[0m, in \u001b[0;36m<cell line: 1>\u001b[1;34m()\u001b[0m\n\u001b[1;32m----> 1\u001b[0m \u001b[43mprocessing_trajectories\u001b[49m\u001b[43m(\u001b[49m\u001b[38;5;124;43m'\u001b[39;49m\u001b[38;5;124;43m../Datasets/\u001b[39;49m\u001b[38;5;124;43m'\u001b[39;49m\u001b[38;5;241;43m+\u001b[39;49m\u001b[43msample\u001b[49m\u001b[38;5;241;43m+\u001b[39;49m\u001b[38;5;124;43m'\u001b[39;49m\u001b[38;5;124;43m_sample\u001b[39;49m\u001b[38;5;124;43m'\u001b[39;49m\u001b[43m)\u001b[49m\n",
      "Input \u001b[1;32mIn [4]\u001b[0m, in \u001b[0;36mprocessing_trajectories\u001b[1;34m(folder)\u001b[0m\n\u001b[0;32m     29\u001b[0m u_gps_points\u001b[38;5;241m.\u001b[39mrename(inplace\u001b[38;5;241m=\u001b[39m\u001b[38;5;28;01mTrue\u001b[39;00m, columns\u001b[38;5;241m=\u001b[39m{\u001b[38;5;124m'\u001b[39m\u001b[38;5;124m5_6\u001b[39m\u001b[38;5;124m'\u001b[39m: \u001b[38;5;124m'\u001b[39m\u001b[38;5;124mTimestamp\u001b[39m\u001b[38;5;124m'\u001b[39m, \u001b[38;5;241m0\u001b[39m: \u001b[38;5;124m'\u001b[39m\u001b[38;5;124mLatitude\u001b[39m\u001b[38;5;124m'\u001b[39m, \n\u001b[0;32m     30\u001b[0m                                       \u001b[38;5;241m1\u001b[39m: \u001b[38;5;124m'\u001b[39m\u001b[38;5;124mLongitude\u001b[39m\u001b[38;5;124m'\u001b[39m, \u001b[38;5;241m3\u001b[39m: \u001b[38;5;124m'\u001b[39m\u001b[38;5;124mAltitude\u001b[39m\u001b[38;5;124m'\u001b[39m})\n\u001b[0;32m     31\u001b[0m u_gps_points\u001b[38;5;241m.\u001b[39mdrop(inplace\u001b[38;5;241m=\u001b[39m\u001b[38;5;28;01mTrue\u001b[39;00m, columns\u001b[38;5;241m=\u001b[39m[\u001b[38;5;241m2\u001b[39m, \u001b[38;5;241m4\u001b[39m])\n\u001b[1;32m---> 33\u001b[0m u_gps_points_labeled \u001b[38;5;241m=\u001b[39m \u001b[43mselect_labeled_points\u001b[49m\u001b[43m(\u001b[49m\u001b[43mu_transport\u001b[49m\u001b[43m,\u001b[49m\u001b[43mu_gps_points\u001b[49m\u001b[43m)\u001b[49m\n\u001b[0;32m     35\u001b[0m insert_gpspoints_into_db(u_gps_points_labeled)\n",
      "Input \u001b[1;32mIn [4]\u001b[0m, in \u001b[0;36mselect_labeled_points\u001b[1;34m(transport, gps_points)\u001b[0m\n\u001b[0;32m     46\u001b[0m label \u001b[38;5;241m=\u001b[39m row_transport[\u001b[38;5;124m'\u001b[39m\u001b[38;5;124mTransportation Mode\u001b[39m\u001b[38;5;124m'\u001b[39m]\n\u001b[0;32m     48\u001b[0m \u001b[38;5;28;01mfor\u001b[39;00m index_gps,row_gps \u001b[38;5;129;01min\u001b[39;00m gps_points\u001b[38;5;241m.\u001b[39miterrows():\n\u001b[1;32m---> 49\u001b[0m     \u001b[38;5;28;01mif\u001b[39;00m start \u001b[38;5;241m<\u001b[39m\u001b[38;5;241m=\u001b[39m \u001b[43mrow_gps\u001b[49m\u001b[43m[\u001b[49m\u001b[38;5;124;43m'\u001b[39;49m\u001b[38;5;124;43mTimestamp\u001b[39;49m\u001b[38;5;124;43m'\u001b[39;49m\u001b[43m]\u001b[49m \u001b[38;5;241m<\u001b[39m\u001b[38;5;241m=\u001b[39m end:\n\u001b[0;32m     51\u001b[0m         gps_points_labeled\u001b[38;5;241m.\u001b[39mloc[\u001b[38;5;28mlen\u001b[39m(gps_points_labeled\u001b[38;5;241m.\u001b[39mindex)] \u001b[38;5;241m=\u001b[39m [row_gps[\u001b[38;5;124m'\u001b[39m\u001b[38;5;124mTimestamp\u001b[39m\u001b[38;5;124m'\u001b[39m], row_gps[\u001b[38;5;124m'\u001b[39m\u001b[38;5;124mLatitude\u001b[39m\u001b[38;5;124m'\u001b[39m],\n\u001b[0;32m     52\u001b[0m                                                                  row_gps[\u001b[38;5;124m'\u001b[39m\u001b[38;5;124mLongitude\u001b[39m\u001b[38;5;124m'\u001b[39m], row_gps[\u001b[38;5;124m'\u001b[39m\u001b[38;5;124mAltitude\u001b[39m\u001b[38;5;124m'\u001b[39m],  \n\u001b[0;32m     53\u001b[0m                                                                  label, identifier]\n\u001b[0;32m     55\u001b[0m count \u001b[38;5;241m+\u001b[39m\u001b[38;5;241m=\u001b[39m \u001b[38;5;241m1\u001b[39m\n",
      "File \u001b[1;32mC:\\ProgramData\\Miniconda3\\lib\\site-packages\\pandas\\core\\series.py:958\u001b[0m, in \u001b[0;36mSeries.__getitem__\u001b[1;34m(self, key)\u001b[0m\n\u001b[0;32m    955\u001b[0m     \u001b[38;5;28;01mreturn\u001b[39;00m \u001b[38;5;28mself\u001b[39m\u001b[38;5;241m.\u001b[39m_values[key]\n\u001b[0;32m    957\u001b[0m \u001b[38;5;28;01melif\u001b[39;00m key_is_scalar:\n\u001b[1;32m--> 958\u001b[0m     \u001b[38;5;28;01mreturn\u001b[39;00m \u001b[38;5;28;43mself\u001b[39;49m\u001b[38;5;241;43m.\u001b[39;49m\u001b[43m_get_value\u001b[49m\u001b[43m(\u001b[49m\u001b[43mkey\u001b[49m\u001b[43m)\u001b[49m\n\u001b[0;32m    960\u001b[0m \u001b[38;5;28;01mif\u001b[39;00m is_hashable(key):\n\u001b[0;32m    961\u001b[0m     \u001b[38;5;66;03m# Otherwise index.get_value will raise InvalidIndexError\u001b[39;00m\n\u001b[0;32m    962\u001b[0m     \u001b[38;5;28;01mtry\u001b[39;00m:\n\u001b[0;32m    963\u001b[0m         \u001b[38;5;66;03m# For labels that don't resolve as scalars like tuples and frozensets\u001b[39;00m\n",
      "File \u001b[1;32mC:\\ProgramData\\Miniconda3\\lib\\site-packages\\pandas\\core\\series.py:1069\u001b[0m, in \u001b[0;36mSeries._get_value\u001b[1;34m(self, label, takeable)\u001b[0m\n\u001b[0;32m   1066\u001b[0m     \u001b[38;5;28;01mreturn\u001b[39;00m \u001b[38;5;28mself\u001b[39m\u001b[38;5;241m.\u001b[39m_values[label]\n\u001b[0;32m   1068\u001b[0m \u001b[38;5;66;03m# Similar to Index.get_value, but we do not fall back to positional\u001b[39;00m\n\u001b[1;32m-> 1069\u001b[0m loc \u001b[38;5;241m=\u001b[39m \u001b[38;5;28;43mself\u001b[39;49m\u001b[38;5;241;43m.\u001b[39;49m\u001b[43mindex\u001b[49m\u001b[38;5;241;43m.\u001b[39;49m\u001b[43mget_loc\u001b[49m\u001b[43m(\u001b[49m\u001b[43mlabel\u001b[49m\u001b[43m)\u001b[49m\n\u001b[0;32m   1070\u001b[0m \u001b[38;5;28;01mreturn\u001b[39;00m \u001b[38;5;28mself\u001b[39m\u001b[38;5;241m.\u001b[39mindex\u001b[38;5;241m.\u001b[39m_get_values_for_loc(\u001b[38;5;28mself\u001b[39m, loc, label)\n",
      "File \u001b[1;32mC:\\ProgramData\\Miniconda3\\lib\\site-packages\\pandas\\core\\indexes\\base.py:3619\u001b[0m, in \u001b[0;36mIndex.get_loc\u001b[1;34m(self, key, method, tolerance)\u001b[0m\n\u001b[0;32m   3614\u001b[0m \u001b[38;5;28;01mif\u001b[39;00m tolerance \u001b[38;5;129;01mis\u001b[39;00m \u001b[38;5;129;01mnot\u001b[39;00m \u001b[38;5;28;01mNone\u001b[39;00m:\n\u001b[0;32m   3615\u001b[0m     \u001b[38;5;28;01mraise\u001b[39;00m \u001b[38;5;167;01mValueError\u001b[39;00m(\n\u001b[0;32m   3616\u001b[0m         \u001b[38;5;124m\"\u001b[39m\u001b[38;5;124mtolerance argument only valid if using pad, \u001b[39m\u001b[38;5;124m\"\u001b[39m\n\u001b[0;32m   3617\u001b[0m         \u001b[38;5;124m\"\u001b[39m\u001b[38;5;124mbackfill or nearest lookups\u001b[39m\u001b[38;5;124m\"\u001b[39m\n\u001b[0;32m   3618\u001b[0m     )\n\u001b[1;32m-> 3619\u001b[0m casted_key \u001b[38;5;241m=\u001b[39m \u001b[38;5;28;43mself\u001b[39;49m\u001b[38;5;241;43m.\u001b[39;49m\u001b[43m_maybe_cast_indexer\u001b[49m\u001b[43m(\u001b[49m\u001b[43mkey\u001b[49m\u001b[43m)\u001b[49m\n\u001b[0;32m   3620\u001b[0m \u001b[38;5;28;01mtry\u001b[39;00m:\n\u001b[0;32m   3621\u001b[0m     \u001b[38;5;28;01mreturn\u001b[39;00m \u001b[38;5;28mself\u001b[39m\u001b[38;5;241m.\u001b[39m_engine\u001b[38;5;241m.\u001b[39mget_loc(casted_key)\n",
      "File \u001b[1;32mC:\\ProgramData\\Miniconda3\\lib\\site-packages\\pandas\\core\\indexes\\base.py:6289\u001b[0m, in \u001b[0;36mIndex._maybe_cast_indexer\u001b[1;34m(self, key)\u001b[0m\n\u001b[0;32m   6284\u001b[0m \u001b[38;5;28;01mdef\u001b[39;00m \u001b[38;5;21m_maybe_cast_indexer\u001b[39m(\u001b[38;5;28mself\u001b[39m, key):\n\u001b[0;32m   6285\u001b[0m     \u001b[38;5;124;03m\"\"\"\u001b[39;00m\n\u001b[0;32m   6286\u001b[0m \u001b[38;5;124;03m    If we have a float key and are not a floating index, then try to cast\u001b[39;00m\n\u001b[0;32m   6287\u001b[0m \u001b[38;5;124;03m    to an int if equivalent.\u001b[39;00m\n\u001b[0;32m   6288\u001b[0m \u001b[38;5;124;03m    \"\"\"\u001b[39;00m\n\u001b[1;32m-> 6289\u001b[0m     \u001b[38;5;28;01mif\u001b[39;00m \u001b[38;5;129;01mnot\u001b[39;00m \u001b[38;5;28;43mself\u001b[39;49m\u001b[38;5;241;43m.\u001b[39;49m\u001b[43mis_floating\u001b[49m\u001b[43m(\u001b[49m\u001b[43m)\u001b[49m:\n\u001b[0;32m   6290\u001b[0m         \u001b[38;5;28;01mreturn\u001b[39;00m com\u001b[38;5;241m.\u001b[39mcast_scalar_indexer(key)\n\u001b[0;32m   6291\u001b[0m     \u001b[38;5;28;01mreturn\u001b[39;00m key\n",
      "\u001b[1;31mKeyboardInterrupt\u001b[0m: "
     ]
    }
   ],
   "source": [
    "processing_trajectories('../Datasets/'+sample+'_sample')"
   ]
  }
 ],
 "metadata": {
  "kernelspec": {
   "display_name": "Python 3 (ipykernel)",
   "language": "python",
   "name": "python3"
  },
  "language_info": {
   "codemirror_mode": {
    "name": "ipython",
    "version": 3
   },
   "file_extension": ".py",
   "mimetype": "text/x-python",
   "name": "python",
   "nbconvert_exporter": "python",
   "pygments_lexer": "ipython3",
   "version": "3.9.12"
  }
 },
 "nbformat": 4,
 "nbformat_minor": 5
}
