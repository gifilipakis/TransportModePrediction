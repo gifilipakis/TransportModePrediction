{
 "cells": [
  {
   "cell_type": "code",
   "execution_count": null,
   "id": "4731955e",
   "metadata": {},
   "outputs": [],
   "source": [
    "from sklearn.model_selection import train_test_split\n",
    "from sklearn.ensemble import AdaBoostClassifier\n",
    "from ipynb.fs.full.Scores_Validation import cv_validate, f1_score"
   ]
  },
  {
   "cell_type": "code",
   "execution_count": null,
   "id": "0f4e55a4",
   "metadata": {},
   "outputs": [],
   "source": [
    "def experiment2(X, y):\n",
    "    clf = AdaBoostClassifier()\n",
    "   \n",
    "    cv = cv_validate(clf, X, y)\n",
    "    \n",
    "    X_train, X_test, y_train, y_test = train_test_split(X, y, test_size=0.2, random_state=42)\n",
    "    clf.fit(X_train, y_train)\n",
    "    y_pred = clf.predict(X_test)\n",
    "    \n",
    "    f1 = f1_score(y_test, y_pred)\n",
    "    \n",
    "    return cv, f1"
   ]
  }
 ],
 "metadata": {
  "kernelspec": {
   "display_name": "Python 3 (ipykernel)",
   "language": "python",
   "name": "python3"
  },
  "language_info": {
   "codemirror_mode": {
    "name": "ipython",
    "version": 3
   },
   "file_extension": ".py",
   "mimetype": "text/x-python",
   "name": "python",
   "nbconvert_exporter": "python",
   "pygments_lexer": "ipython3",
   "version": "3.9.12"
  }
 },
 "nbformat": 4,
 "nbformat_minor": 5
}
