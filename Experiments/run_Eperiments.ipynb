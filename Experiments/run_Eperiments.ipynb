{
 "cells": [
  {
   "cell_type": "code",
   "execution_count": 8,
   "id": "1080156f",
   "metadata": {},
   "outputs": [],
   "source": [
    "from ipynb.fs.defs.Experiment_1 import experiment1\n",
    "from ipynb.fs.defs.Experiment_2 import experiment2\n",
    "from ipynb.fs.defs.Experiment_3 import experiment3\n",
    "from ipynb.fs.defs.Experiment_4 import experiment4\n",
    "from ipynb.fs.defs.Experiment_5 import experiment5\n",
    "import pandas as pd\n",
    "import mysql.connector as msql\n",
    "from mysql.connector import Error"
   ]
  },
  {
   "cell_type": "code",
   "execution_count": 9,
   "id": "d99a931f",
   "metadata": {},
   "outputs": [
    {
     "name": "stdout",
     "output_type": "stream",
     "text": [
      "MySQL connection is closed\n"
     ]
    }
   ],
   "source": [
    "mydb = msql.connect(\n",
    "  host=\"localhost\",\n",
    "  user=\"root\",\n",
    "  password=\"root\",\n",
    "  database=\"trajectories\"\n",
    ")\n",
    "mycursor = mydb.cursor(buffered=True)\n",
    "\n",
    "try:\n",
    "    if mydb.is_connected():\n",
    "\n",
    "        query = \"\"\"SELECT * FROM trajectories.stop_point_features X INNER JOIN trajectories.features Y USING (uid);\"\"\"\n",
    "        mycursor.execute(query)\n",
    "        data = mycursor.fetchall()\n",
    "        mydb.commit()\n",
    "\n",
    "except Error as e:\n",
    "\n",
    "    print(\"Error while connecting to gpspoints:\", e)\n",
    "\n",
    "finally:\n",
    "    if mydb.is_connected():\n",
    "        mycursor.close()\n",
    "        mydb.close()\n",
    "        print(\"MySQL connection is closed\")"
   ]
  },
  {
   "cell_type": "code",
   "execution_count": 12,
   "id": "16f34ee0",
   "metadata": {},
   "outputs": [],
   "source": [
    "df = pd.DataFrame(data, columns = ['uid', 'max_duration', 'avg_duration', 'min_duration', 'shannon_duration', \n",
    "                                   'fisher_duration', 'pearson_duration', \n",
    "                                   'max_length', 'avg_length', 'min_length', 'shannon_length', 'fisher_length', \n",
    "                                   'pearson_length', 'label',\n",
    "                                   'max_dist', 'avg_dist', 'min_dist', 'var_dist', 'shannon_dist', 'fisher_dist', \n",
    "                                   'pearson_dist', \n",
    "                                   'max_speed', 'avg_speed', 'min_speed', 'var_speed', 'shannon_speed', 'fisher_speed', \n",
    "                                   'pearson_speed',\n",
    "                                   'max_acc', 'avg_acc', 'min_acc', 'var_acc', 'shannon_acc', 'fisher_acc', 'pearson_acc', \n",
    "                                   'max_jerk', 'avg_jerk', 'min_jerk', 'var_jerk', 'shannon_jerk', 'fisher_jerk', \n",
    "                                   'pearson_jerk','label'])\n",
    "\n",
    "\n",
    "X = df[['max_duration', 'avg_duration', 'min_duration', 'shannon_duration', 'fisher_duration',\n",
    "                                   'pearson_duration', \n",
    "                                   'max_length', 'avg_length', 'min_length', 'shannon_length', 'fisher_length', \n",
    "                                   'pearson_length',\n",
    "                                   'max_dist', 'avg_dist', 'min_dist', 'var_dist', 'shannon_dist', 'fisher_dist', \n",
    "                                   'pearson_dist', \n",
    "                                   'max_speed', 'avg_speed', 'min_speed', 'var_speed', 'shannon_speed', 'fisher_speed', \n",
    "                                   'pearson_speed',\n",
    "                                   'max_acc', 'avg_acc', 'min_acc', 'var_acc', 'shannon_acc', 'fisher_acc', 'pearson_acc', \n",
    "                                   'max_jerk', 'avg_jerk', 'min_jerk', 'var_jerk', 'shannon_jerk', 'fisher_jerk', \n",
    "                                   'pearson_jerk']]\n",
    "\n",
    "# df = pd.DataFrame(data, columns = ['max_duration', 'avg_duration', 'min_duration', 'shannon_duration', 'fisher_duration',\n",
    "#                                    'pearson_duration', 'max_length', 'avg_length', 'min_length', 'shannon_length', \n",
    "#                                    'fisher_length', 'pearson_length', 'label'])\n",
    "# X = df[['max_duration', 'avg_duration', 'min_duration', 'shannon_duration', 'fisher_duration', 'pearson_duration', \n",
    "#         'max_length', 'avg_length', 'min_length', 'shannon_length', 'fisher_length', 'pearson_length']]\n",
    "\n",
    "y = df[['label']].values.ravel()"
   ]
  },
  {
   "cell_type": "code",
   "execution_count": 18,
   "id": "16dc01e6",
   "metadata": {},
   "outputs": [
    {
     "data": {
      "text/plain": [
       "(763, 40)"
      ]
     },
     "execution_count": 18,
     "metadata": {},
     "output_type": "execute_result"
    }
   ],
   "source": [
    "X.shape"
   ]
  },
  {
   "cell_type": "code",
   "execution_count": 15,
   "id": "573cae20",
   "metadata": {},
   "outputs": [
    {
     "data": {
      "text/plain": [
       "1526"
      ]
     },
     "execution_count": 15,
     "metadata": {},
     "output_type": "execute_result"
    }
   ],
   "source": [
    "len(y)"
   ]
  },
  {
   "cell_type": "code",
   "execution_count": null,
   "id": "a3948bfb",
   "metadata": {},
   "outputs": [],
   "source": [
    "experiment1(X, y)"
   ]
  },
  {
   "cell_type": "code",
   "execution_count": null,
   "id": "8263dbba",
   "metadata": {},
   "outputs": [],
   "source": [
    "experiment2(X, y)"
   ]
  },
  {
   "cell_type": "code",
   "execution_count": null,
   "id": "8b5c12ec",
   "metadata": {},
   "outputs": [],
   "source": [
    "experiment3(X, y)"
   ]
  },
  {
   "cell_type": "code",
   "execution_count": null,
   "id": "8de6c156",
   "metadata": {},
   "outputs": [],
   "source": [
    "experiment4(X, y)"
   ]
  },
  {
   "cell_type": "code",
   "execution_count": null,
   "id": "1eaddbac",
   "metadata": {},
   "outputs": [],
   "source": [
    "experiment5(X, y)"
   ]
  }
 ],
 "metadata": {
  "kernelspec": {
   "display_name": "Python 3 (ipykernel)",
   "language": "python",
   "name": "python3"
  },
  "language_info": {
   "codemirror_mode": {
    "name": "ipython",
    "version": 3
   },
   "file_extension": ".py",
   "mimetype": "text/x-python",
   "name": "python",
   "nbconvert_exporter": "python",
   "pygments_lexer": "ipython3",
   "version": "3.9.12"
  }
 },
 "nbformat": 4,
 "nbformat_minor": 5
}
