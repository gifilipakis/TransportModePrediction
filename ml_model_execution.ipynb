{
 "cells": [
  {
   "cell_type": "code",
   "execution_count": 42,
   "id": "f36afee1",
   "metadata": {},
   "outputs": [],
   "source": [
    "import mysql.connector as msql\n",
    "from mysql.connector import Error\n",
    "import pandas as pd\n",
    "from sklearn.model_selection import train_test_split\n",
    "from sklearn.feature_selection import RFE\n",
    "from sklearn.metrics import f1_score\n",
    "from sklearn.ensemble import RandomForestClassifier\n",
    "from sklearn.ensemble import AdaBoostClassifier"
   ]
  },
  {
   "cell_type": "code",
   "execution_count": 43,
   "id": "1ae04524",
   "metadata": {},
   "outputs": [
    {
     "name": "stdout",
     "output_type": "stream",
     "text": [
      "MySQL connection is closed\n"
     ]
    }
   ],
   "source": [
    "mydb = msql.connect(\n",
    "  host=\"localhost\",\n",
    "  user=\"root\",\n",
    "  password=\"root\",\n",
    "  database=\"trajectories\"\n",
    ")\n",
    "mycursor = mydb.cursor(buffered=True)\n",
    "\n",
    "try:\n",
    "    if mydb.is_connected():\n",
    "\n",
    "        query = \"\"\"SELECT * FROM trajectories.features;\"\"\"\n",
    "        mycursor.execute(query)\n",
    "        data = mycursor.fetchall()\n",
    "        mydb.commit()\n",
    "\n",
    "except Error as e:\n",
    "\n",
    "    print(\"Error while connecting to gpspoints:\", e)\n",
    "\n",
    "finally:\n",
    "    if mydb.is_connected():\n",
    "        mycursor.close()\n",
    "        mydb.close()\n",
    "        print(\"MySQL connection is closed\")"
   ]
  },
  {
   "cell_type": "code",
   "execution_count": 44,
   "id": "39951dce",
   "metadata": {},
   "outputs": [
    {
     "name": "stdout",
     "output_type": "stream",
     "text": [
      "(2106, 21)\n"
     ]
    }
   ],
   "source": [
    "# df = pd.DataFrame(data, columns = ['max_dist', 'avg_dist', 'min_dist', 'var_dist', 'shannon_dist', 'fisher_dist', 'pearson_dist', \n",
    "#                                   'max_speed', 'avg_speed', 'min_speed', 'var_speed', 'shannon_speed', 'fisher_speed', 'pearson_speed',\n",
    "#                                  'max_acc', 'avg_acc', 'min_acc', 'var_acc', 'shannon_acc', 'fisher_acc', 'pearson_acc', 'label'])\n",
    "# X = df[['max_dist', 'avg_dist', 'min_dist', 'var_dist', 'shannon_dist', 'fisher_dist', 'pearson_dist', \n",
    "#                                   'max_speed', 'avg_speed', 'min_speed', 'var_speed', 'shannon_speed', 'fisher_speed', 'pearson_speed',\n",
    "#                                  'max_acc', 'avg_acc', 'min_acc', 'var_acc', 'shannon_acc', 'fisher_acc', 'pearson_acc']]\n",
    "\n",
    "df = pd.DataFrame(data, columns = ['max_duration', 'avg_duration', 'min_duration', 'shannon_duration', 'fisher_duration',\n",
    "                                   'pearson_duration', 'max_length', 'avg_length', 'min_length', 'shannon_length', \n",
    "                                   'fisher_length', 'pearson_length', 'label'])\n",
    "X = df[['max_duration', 'avg_duration', 'min_duration', 'shannon_duration', 'fisher_duration', 'pearson_duration', \n",
    "        'max_length', 'avg_length', 'min_length', 'shannon_length', 'fisher_length', 'pearson_length']]\n",
    "y = df[['label']].values.ravel()\n",
    "print(X.shape)"
   ]
  },
  {
   "cell_type": "code",
   "execution_count": 56,
   "id": "e872708c",
   "metadata": {},
   "outputs": [],
   "source": [
    "def random_forest_model(X, y):\n",
    "    n_features_to_select = [.2, .5, .7, 1.0]\n",
    "    for n in n_features_to_select:\n",
    "        print(n,\"Random Forest Model features ----------------------------\")\n",
    "        clf = RandomForestClassifier()\n",
    "        selector = RFE(clf, n_features_to_select = n)\n",
    "        features = selector.fit(X, y).get_feature_names_out()\n",
    "        print(features)\n",
    "\n",
    "        X_new = df[features]\n",
    "        X_train, X_test, y_train, y_test = train_test_split( X_new, y, test_size=0.2, random_state=42)\n",
    "\n",
    "        clf.fit(X_train, y_train)\n",
    "        y_pred = clf.predict(X_test)\n",
    "        score = f1_score(y_test, y_pred, average='micro')\n",
    "        print(score)\n",
    "    \n",
    "def adaboost_model(X, y):\n",
    "    n_features_to_select = [.2, .5, .7, 1.0]\n",
    "    for n in n_features_to_select:\n",
    "        print(n,\"AdaBoost Model features -------------------------------------\")\n",
    "        clf = AdaBoostClassifier()\n",
    "        selector = RFE(clf, n_features_to_select = n)\n",
    "        features = selector.fit(X, y).get_feature_names_out()\n",
    "        print(features)\n",
    "\n",
    "        X_new = df[features]\n",
    "        X_train, X_test, y_train, y_test = train_test_split(X_new, y, test_size=0.2, random_state=42)\n",
    "\n",
    "        clf.fit(X_train, y_train)\n",
    "        y_pred = clf.predict(X_test)\n",
    "        score = f1_score(y_test, y_pred, average='micro')\n",
    "        print(score)"
   ]
  },
  {
   "cell_type": "code",
   "execution_count": 57,
   "id": "928955e1",
   "metadata": {},
   "outputs": [
    {
     "name": "stdout",
     "output_type": "stream",
     "text": [
      "(2106, 21)\n",
      "0.2 Random Forest Model features ----------------------------\n",
      "['avg_dist' 'avg_speed' 'avg_acc' 'shannon_acc']\n",
      "0.7654028436018957\n",
      "0.5 Random Forest Model features ----------------------------\n",
      "['avg_dist' 'var_dist' 'shannon_dist' 'avg_speed' 'shannon_speed'\n",
      " 'fisher_speed' 'max_acc' 'avg_acc' 'var_acc' 'shannon_acc']\n",
      "0.8009478672985783\n",
      "0.7 Random Forest Model features ----------------------------\n",
      "['avg_dist' 'var_dist' 'shannon_dist' 'pearson_dist' 'max_speed'\n",
      " 'avg_speed' 'var_speed' 'shannon_speed' 'fisher_speed' 'pearson_speed'\n",
      " 'max_acc' 'avg_acc' 'var_acc' 'shannon_acc']\n",
      "0.8222748815165877\n",
      "1.0 Random Forest Model features ----------------------------\n",
      "['max_dist' 'avg_dist' 'min_dist' 'var_dist' 'shannon_dist' 'fisher_dist'\n",
      " 'pearson_dist' 'max_speed' 'avg_speed' 'min_speed' 'var_speed'\n",
      " 'shannon_speed' 'fisher_speed' 'pearson_speed' 'max_acc' 'avg_acc'\n",
      " 'min_acc' 'var_acc' 'shannon_acc' 'fisher_acc' 'pearson_acc']\n",
      "0.8317535545023697\n"
     ]
    }
   ],
   "source": [
    "X, y = train_test_data(data)\n",
    "random_forest_model(X, y)"
   ]
  }
 ],
 "metadata": {
  "kernelspec": {
   "display_name": "Python 3 (ipykernel)",
   "language": "python",
   "name": "python3"
  },
  "language_info": {
   "codemirror_mode": {
    "name": "ipython",
    "version": 3
   },
   "file_extension": ".py",
   "mimetype": "text/x-python",
   "name": "python",
   "nbconvert_exporter": "python",
   "pygments_lexer": "ipython3",
   "version": "3.9.12"
  }
 },
 "nbformat": 4,
 "nbformat_minor": 5
}
