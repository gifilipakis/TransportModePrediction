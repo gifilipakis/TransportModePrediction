{
 "cells": [
  {
   "cell_type": "code",
   "execution_count": 5,
   "id": "4bf95662",
   "metadata": {},
   "outputs": [],
   "source": [
    "import mysql.connector as msql\n",
    "from mysql.connector import Error\n",
    "import pandas as pd\n",
    "from shapely.geometry import Point\n",
    "import geopandas as gpd\n",
    "from geopandas import GeoDataFrame\n",
    "import matplotlib.pyplot as plt\n",
    "from pyproj import CRS\n",
    "from shapely.geometry import Point\n",
    "import movingpandas as mpd\n",
    "from datetime import datetime, timedelta\n",
    "import math\n",
    "import numpy as np\n",
    "from scipy.stats import entropy\n",
    "from scipy.stats import norm, kurtosis\n",
    "import warnings\n",
    "from shapely.errors import ShapelyDeprecationWarning\n",
    "warnings.filterwarnings(\"ignore\", category=ShapelyDeprecationWarning) "
   ]
  },
  {
   "cell_type": "code",
   "execution_count": 6,
   "id": "0644eea8",
   "metadata": {},
   "outputs": [],
   "source": [
    "def shannon_entropy(hist):\n",
    "    side, count = np.unique(hist, return_counts=True)\n",
    "    dist = count/len(hist)\n",
    "    entropy_value = entropy(dist)\n",
    "    return entropy_value\n",
    "  \n",
    "def kurtosis_fisher(dist):\n",
    "    return kurtosis(dist)\n",
    "\n",
    "def kurtosis_pearson(dist):\n",
    "    return kurtosis(dist, fisher=False)"
   ]
  },
  {
   "cell_type": "code",
   "execution_count": 7,
   "id": "35a16bf8",
   "metadata": {},
   "outputs": [],
   "source": [
    "def stop_points_detection(uids):\n",
    "    # unique trajectories\n",
    "    count = 1\n",
    "    total = len(uids)\n",
    "    \n",
    "    for uid in uids:      \n",
    "\n",
    "        uid = uid[0]\n",
    "        feature_query = \"SELECT %s FROM trajectories.gpspoints WHERE identifier = '%s';\" % ('timestamp, latitude, \\\n",
    "                                                                                            longitude, altitude, \\\n",
    "                                                                                            transport_mode, identifier',\n",
    "                                                                                            uid)        \n",
    "        mycursor.execute(feature_query)\n",
    "        data = mycursor.fetchall()\n",
    "        \n",
    "        if(len(data) >= 80):    \n",
    "            df = pd.DataFrame(data, columns = ['timestamp', 'latitude', 'longitude', 'altitude', 'transport_mode', 'identifier'])\n",
    "            df['geometry'] = [Point(long, lat) for long,lat in zip(df['longitude'].to_list(), df['latitude'].to_list())]             \n",
    "            geodata = gpd.GeoDataFrame(df, crs = CRS.from_epsg('4326')).set_index('timestamp')\n",
    "            traj_collection = mpd.TrajectoryCollection(geodata, 'transport_mode')\n",
    "\n",
    "            Hours = .005\n",
    "            SearchRadio = 200\n",
    "            stops = mpd.TrajectoryStopDetector(traj_collection).get_stop_segments(min_duration=timedelta(hours=Hours), \n",
    "                                                                                  max_diameter=SearchRadio)\n",
    "\n",
    "            duration = []\n",
    "            length = []\n",
    "            label = df['transport_mode'].unique()[0]\n",
    "            \n",
    "            for stoptrack in stops.trajectories:\n",
    "                # add stop duration in hours\n",
    "                duration.append(stoptrack.get_duration().total_seconds())\n",
    "                # add length\n",
    "                length.append(stoptrack.get_length())\n",
    "\n",
    "            row = (uid, max(duration), np.mean(duration), min(duration), shannon_entropy(duration), \n",
    "                   kurtosis_fisher(duration), kurtosis_pearson(duration),\n",
    "                  max(length), np.mean(length), min(length), shannon_entropy(length), \n",
    "                   kurtosis_fisher(length), kurtosis_pearson(length), label)\n",
    "            \n",
    "            feature_query = '''INSERT INTO trajectories.stop_point_features VALUES (%s, %s, %s, %s, %s, %s, %s, %s, %s, \n",
    "            %s, %s, %s, %s, %s);'''        \n",
    "            mycursor.execute(feature_query, row)\n",
    "        \n",
    "            count += 1\n",
    "        "
   ]
  },
  {
   "cell_type": "code",
   "execution_count": 8,
   "id": "7a5de7a0",
   "metadata": {},
   "outputs": [
    {
     "name": "stdout",
     "output_type": "stream",
     "text": [
      "Processing trajectory\n",
      "MySQL connection is closed\n"
     ]
    }
   ],
   "source": [
    "mydb = msql.connect(\n",
    "  host=\"localhost\",\n",
    "  user=\"root\",\n",
    "  password=\"root\",\n",
    "  database=\"trajectories\"\n",
    ")\n",
    "mycursor = mydb.cursor(buffered=True)\n",
    "\n",
    "try:\n",
    "    if mydb.is_connected():\n",
    "\n",
    "        uids_query = \"\"\"SELECT DISTINCT identifier FROM trajectories.gpspoints;\"\"\"\n",
    "        mycursor.execute(uids_query)\n",
    "        uids = mycursor.fetchmany(1000)\n",
    "        stop_points_detection(uids)\n",
    "        mydb.commit()\n",
    "\n",
    "except Error as e:\n",
    "\n",
    "    print(\"Error while connecting to gpspoints:\", e)\n",
    "\n",
    "finally:\n",
    "    if mydb.is_connected():\n",
    "        mycursor.close()\n",
    "        mydb.close()\n",
    "        print(\"MySQL connection is closed\")"
   ]
  },
  {
   "cell_type": "code",
   "execution_count": 9,
   "id": "e92cb9c9",
   "metadata": {},
   "outputs": [],
   "source": [
    "#         fig = plt.figure()\n",
    "#         plt.scatter(lngs,lats)\n",
    "#         plt.plot(lngs,lats)\n",
    "\n",
    "#         plt.xlabel('Longitude')\n",
    "#         plt.ylabel('Latitude')\n",
    "#         plt.title(label[0])\n",
    "#         plt.show()\n",
    "#         plt.close(fig)"
   ]
  }
 ],
 "metadata": {
  "kernelspec": {
   "display_name": "Python 3 (ipykernel)",
   "language": "python",
   "name": "python3"
  },
  "language_info": {
   "codemirror_mode": {
    "name": "ipython",
    "version": 3
   },
   "file_extension": ".py",
   "mimetype": "text/x-python",
   "name": "python",
   "nbconvert_exporter": "python",
   "pygments_lexer": "ipython3",
   "version": "3.9.12"
  }
 },
 "nbformat": 4,
 "nbformat_minor": 5
}
