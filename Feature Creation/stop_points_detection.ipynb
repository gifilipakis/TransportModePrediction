{
 "cells": [
  {
   "cell_type": "code",
   "execution_count": 10,
   "id": "4bf95662",
   "metadata": {},
   "outputs": [],
   "source": [
    "import mysql.connector as msql\n",
    "from mysql.connector import Error\n",
    "import pandas as pd\n",
    "from shapely.geometry import Point\n",
    "import geopandas as gpd\n",
    "from geopandas import GeoDataFrame\n",
    "import matplotlib.pyplot as plt\n",
    "from pyproj import CRS\n",
    "from shapely.geometry import Point\n",
    "import movingpandas as mpd\n",
    "from datetime import datetime, timedelta\n",
    "import math\n",
    "import numpy as np\n",
    "from scipy.stats import entropy\n",
    "from scipy.stats import norm, kurtosis\n",
    "import warnings\n",
    "from shapely.errors import ShapelyDeprecationWarning\n",
    "warnings.filterwarnings(\"ignore\", category=ShapelyDeprecationWarning) "
   ]
  },
  {
   "cell_type": "code",
   "execution_count": 11,
   "id": "0644eea8",
   "metadata": {},
   "outputs": [],
   "source": [
    "def shannon_entropy(hist):\n",
    "    side, count = np.unique(hist, return_counts=True)\n",
    "    dist = count/len(hist)\n",
    "    entropy_value = entropy(dist)\n",
    "    return entropy_value\n",
    "  \n",
    "def kurtosis_fisher(dist):\n",
    "    return kurtosis(dist)\n",
    "\n",
    "def kurtosis_pearson(dist):\n",
    "    return kurtosis(dist, fisher=False)"
   ]
  },
  {
   "cell_type": "code",
   "execution_count": 12,
   "id": "35a16bf8",
   "metadata": {},
   "outputs": [],
   "source": [
    "def stop_points_detection(uids):\n",
    "    # unique trajectories\n",
    "    count = 1\n",
    "    total = len(uids)\n",
    "    \n",
    "    for uid in uids:      \n",
    "\n",
    "        uid = uid[0]\n",
    "        feature_query = \"SELECT %s FROM trajectories.gpspoints_sample WHERE identifier = '%s';\" % ('timestamp, latitude, \\\n",
    "                                                                                            longitude, altitude, \\\n",
    "                                                                                            transport_mode, identifier',\n",
    "                                                                                            uid)        \n",
    "        mycursor.execute(feature_query)\n",
    "        data = mycursor.fetchall()\n",
    "        \n",
    "        if(len(data) >= 80):    \n",
    "            df = pd.DataFrame(data, columns = ['timestamp', 'latitude', 'longitude', 'altitude', 'transport_mode', 'identifier'])\n",
    "            df['geometry'] = [Point(long, lat) for long,lat in zip(df['longitude'].to_list(), df['latitude'].to_list())]             \n",
    "            geodata = gpd.GeoDataFrame(df, crs = CRS.from_epsg('4326')).set_index('timestamp')\n",
    "            traj_collection = mpd.TrajectoryCollection(geodata, 'transport_mode')\n",
    "\n",
    "            Hours = .005\n",
    "            SearchRadio = 200\n",
    "            stops = mpd.TrajectoryStopDetector(traj_collection).get_stop_segments(min_duration=timedelta(hours=Hours), \n",
    "                                                                                  max_diameter=SearchRadio)\n",
    "\n",
    "            duration = []\n",
    "            length = []\n",
    "            label = df['transport_mode'].unique()[0]\n",
    "            \n",
    "            for stoptrack in stops.trajectories:\n",
    "                # add stop duration in hours\n",
    "                duration.append(stoptrack.get_duration().total_seconds())\n",
    "                # add length\n",
    "                length.append(stoptrack.get_length())\n",
    "\n",
    "            row = (uid, max(duration), np.mean(duration), min(duration), shannon_entropy(duration), \n",
    "                   kurtosis_fisher(duration), kurtosis_pearson(duration),\n",
    "                  max(length), np.mean(length), min(length), shannon_entropy(length), \n",
    "                   kurtosis_fisher(length), kurtosis_pearson(length), label)\n",
    "            \n",
    "            feature_query = '''INSERT INTO trajectories.stop_point_features_sample VALUES (%s, %s, %s, %s, %s, %s, %s, %s, %s, \n",
    "            %s, %s, %s, %s, %s);'''        \n",
    "            mycursor.execute(feature_query, row)\n",
    "        \n",
    "            count += 1\n",
    "        "
   ]
  },
  {
   "cell_type": "code",
   "execution_count": 13,
   "id": "7a5de7a0",
   "metadata": {},
   "outputs": [
    {
     "name": "stderr",
     "output_type": "stream",
     "text": [
      "C:\\ProgramData\\Miniconda3\\lib\\site-packages\\geopy\\point.py:472: UserWarning: Latitude normalization has been prohibited in the newer versions of geopy, because the normalized value happened to be on a different pole, which is probably not what was meant. If you pass coordinates as positional args, please make sure that the order is (latitude, longitude) or (y, x) in Cartesian terms.\n",
      "  return cls(*args)\n"
     ]
    },
    {
     "name": "stdout",
     "output_type": "stream",
     "text": [
      "MySQL connection is closed\n"
     ]
    },
    {
     "ename": "ValueError",
     "evalue": "Latitude must be in the [-90; 90] range.",
     "output_type": "error",
     "traceback": [
      "\u001b[1;31m---------------------------------------------------------------------------\u001b[0m",
      "\u001b[1;31mValueError\u001b[0m                                Traceback (most recent call last)",
      "Input \u001b[1;32mIn [13]\u001b[0m, in \u001b[0;36m<cell line: 9>\u001b[1;34m()\u001b[0m\n\u001b[0;32m     13\u001b[0m         mycursor\u001b[38;5;241m.\u001b[39mexecute(uids_query)\n\u001b[0;32m     14\u001b[0m         uids \u001b[38;5;241m=\u001b[39m mycursor\u001b[38;5;241m.\u001b[39mfetchmany(\u001b[38;5;241m1000\u001b[39m)\n\u001b[1;32m---> 15\u001b[0m         \u001b[43mstop_points_detection\u001b[49m\u001b[43m(\u001b[49m\u001b[43muids\u001b[49m\u001b[43m)\u001b[49m\n\u001b[0;32m     16\u001b[0m         mydb\u001b[38;5;241m.\u001b[39mcommit()\n\u001b[0;32m     18\u001b[0m \u001b[38;5;28;01mexcept\u001b[39;00m Error \u001b[38;5;28;01mas\u001b[39;00m e:\n",
      "Input \u001b[1;32mIn [12]\u001b[0m, in \u001b[0;36mstop_points_detection\u001b[1;34m(uids)\u001b[0m\n\u001b[0;32m     18\u001b[0m df[\u001b[38;5;124m'\u001b[39m\u001b[38;5;124mgeometry\u001b[39m\u001b[38;5;124m'\u001b[39m] \u001b[38;5;241m=\u001b[39m [Point(long, lat) \u001b[38;5;28;01mfor\u001b[39;00m long,lat \u001b[38;5;129;01min\u001b[39;00m \u001b[38;5;28mzip\u001b[39m(df[\u001b[38;5;124m'\u001b[39m\u001b[38;5;124mlongitude\u001b[39m\u001b[38;5;124m'\u001b[39m]\u001b[38;5;241m.\u001b[39mto_list(), df[\u001b[38;5;124m'\u001b[39m\u001b[38;5;124mlatitude\u001b[39m\u001b[38;5;124m'\u001b[39m]\u001b[38;5;241m.\u001b[39mto_list())]             \n\u001b[0;32m     19\u001b[0m geodata \u001b[38;5;241m=\u001b[39m gpd\u001b[38;5;241m.\u001b[39mGeoDataFrame(df, crs \u001b[38;5;241m=\u001b[39m CRS\u001b[38;5;241m.\u001b[39mfrom_epsg(\u001b[38;5;124m'\u001b[39m\u001b[38;5;124m4326\u001b[39m\u001b[38;5;124m'\u001b[39m))\u001b[38;5;241m.\u001b[39mset_index(\u001b[38;5;124m'\u001b[39m\u001b[38;5;124mtimestamp\u001b[39m\u001b[38;5;124m'\u001b[39m)\n\u001b[1;32m---> 20\u001b[0m traj_collection \u001b[38;5;241m=\u001b[39m \u001b[43mmpd\u001b[49m\u001b[38;5;241;43m.\u001b[39;49m\u001b[43mTrajectoryCollection\u001b[49m\u001b[43m(\u001b[49m\u001b[43mgeodata\u001b[49m\u001b[43m,\u001b[49m\u001b[43m \u001b[49m\u001b[38;5;124;43m'\u001b[39;49m\u001b[38;5;124;43mtransport_mode\u001b[39;49m\u001b[38;5;124;43m'\u001b[39;49m\u001b[43m)\u001b[49m\n\u001b[0;32m     22\u001b[0m Hours \u001b[38;5;241m=\u001b[39m \u001b[38;5;241m.005\u001b[39m\n\u001b[0;32m     23\u001b[0m SearchRadio \u001b[38;5;241m=\u001b[39m \u001b[38;5;241m200\u001b[39m\n",
      "File \u001b[1;32mC:\\ProgramData\\Miniconda3\\lib\\site-packages\\movingpandas\\trajectory_collection.py:71\u001b[0m, in \u001b[0;36mTrajectoryCollection.__init__\u001b[1;34m(self, data, traj_id_col, obj_id_col, t, x, y, crs, min_length, min_duration)\u001b[0m\n\u001b[0;32m     65\u001b[0m         \u001b[38;5;28mself\u001b[39m\u001b[38;5;241m.\u001b[39mtrajectories \u001b[38;5;241m=\u001b[39m [\n\u001b[0;32m     66\u001b[0m             traj\n\u001b[0;32m     67\u001b[0m             \u001b[38;5;28;01mfor\u001b[39;00m traj \u001b[38;5;129;01min\u001b[39;00m \u001b[38;5;28mself\u001b[39m\u001b[38;5;241m.\u001b[39mtrajectories\n\u001b[0;32m     68\u001b[0m             \u001b[38;5;28;01mif\u001b[39;00m traj\u001b[38;5;241m.\u001b[39mget_duration() \u001b[38;5;241m>\u001b[39m\u001b[38;5;241m=\u001b[39m min_duration\n\u001b[0;32m     69\u001b[0m         ]\n\u001b[0;32m     70\u001b[0m \u001b[38;5;28;01melse\u001b[39;00m:\n\u001b[1;32m---> 71\u001b[0m     \u001b[38;5;28mself\u001b[39m\u001b[38;5;241m.\u001b[39mtrajectories \u001b[38;5;241m=\u001b[39m \u001b[38;5;28;43mself\u001b[39;49m\u001b[38;5;241;43m.\u001b[39;49m\u001b[43m_df_to_trajectories\u001b[49m\u001b[43m(\u001b[49m\n\u001b[0;32m     72\u001b[0m \u001b[43m        \u001b[49m\u001b[43mdata\u001b[49m\u001b[43m,\u001b[49m\u001b[43m \u001b[49m\u001b[43mtraj_id_col\u001b[49m\u001b[43m,\u001b[49m\u001b[43m \u001b[49m\u001b[43mobj_id_col\u001b[49m\u001b[43m,\u001b[49m\u001b[43m \u001b[49m\u001b[43mt\u001b[49m\u001b[43m,\u001b[49m\u001b[43m \u001b[49m\u001b[43mx\u001b[49m\u001b[43m,\u001b[49m\u001b[43m \u001b[49m\u001b[43my\u001b[49m\u001b[43m,\u001b[49m\u001b[43m \u001b[49m\u001b[43mcrs\u001b[49m\n\u001b[0;32m     73\u001b[0m \u001b[43m    \u001b[49m\u001b[43m)\u001b[49m\n",
      "File \u001b[1;32mC:\\ProgramData\\Miniconda3\\lib\\site-packages\\movingpandas\\trajectory_collection.py:169\u001b[0m, in \u001b[0;36mTrajectoryCollection._df_to_trajectories\u001b[1;34m(self, df, traj_id_col, obj_id_col, t, x, y, crs)\u001b[0m\n\u001b[0;32m    166\u001b[0m     \u001b[38;5;28;01mif\u001b[39;00m trajectory\u001b[38;5;241m.\u001b[39mget_duration() \u001b[38;5;241m<\u001b[39m \u001b[38;5;28mself\u001b[39m\u001b[38;5;241m.\u001b[39mmin_duration:\n\u001b[0;32m    167\u001b[0m         \u001b[38;5;28;01mcontinue\u001b[39;00m\n\u001b[0;32m    168\u001b[0m \u001b[38;5;28;01mif\u001b[39;00m (\n\u001b[1;32m--> 169\u001b[0m     \u001b[43mtrajectory\u001b[49m\u001b[38;5;241;43m.\u001b[39;49m\u001b[43mget_length\u001b[49m\u001b[43m(\u001b[49m\u001b[43m)\u001b[49m \u001b[38;5;241m<\u001b[39m \u001b[38;5;28mself\u001b[39m\u001b[38;5;241m.\u001b[39mmin_length\n\u001b[0;32m    170\u001b[0m     \u001b[38;5;129;01mor\u001b[39;00m trajectory\u001b[38;5;241m.\u001b[39mdf\u001b[38;5;241m.\u001b[39mgeometry\u001b[38;5;241m.\u001b[39mcount() \u001b[38;5;241m<\u001b[39m \u001b[38;5;241m2\u001b[39m\n\u001b[0;32m    171\u001b[0m ):\n\u001b[0;32m    172\u001b[0m     \u001b[38;5;28;01mcontinue\u001b[39;00m\n\u001b[0;32m    173\u001b[0m \u001b[38;5;28;01mif\u001b[39;00m \u001b[38;5;28misinstance\u001b[39m(df, GeoDataFrame):\n",
      "File \u001b[1;32mC:\\ProgramData\\Miniconda3\\lib\\site-packages\\movingpandas\\trajectory.py:660\u001b[0m, in \u001b[0;36mTrajectory.get_length\u001b[1;34m(self)\u001b[0m\n\u001b[0;32m    647\u001b[0m \u001b[38;5;124;03m\"\"\"\u001b[39;00m\n\u001b[0;32m    648\u001b[0m \u001b[38;5;124;03mReturn the length of the trajectory.\u001b[39;00m\n\u001b[0;32m    649\u001b[0m \n\u001b[1;32m   (...)\u001b[0m\n\u001b[0;32m    656\u001b[0m \u001b[38;5;124;03m    Length of the trajectory\u001b[39;00m\n\u001b[0;32m    657\u001b[0m \u001b[38;5;124;03m\"\"\"\u001b[39;00m\n\u001b[0;32m    658\u001b[0m temp_df \u001b[38;5;241m=\u001b[39m \u001b[38;5;28mself\u001b[39m\u001b[38;5;241m.\u001b[39mdf\u001b[38;5;241m.\u001b[39massign(prev_pt\u001b[38;5;241m=\u001b[39m\u001b[38;5;28mself\u001b[39m\u001b[38;5;241m.\u001b[39mdf\u001b[38;5;241m.\u001b[39mgeometry\u001b[38;5;241m.\u001b[39mshift())\n\u001b[0;32m    659\u001b[0m temp_df \u001b[38;5;241m=\u001b[39m temp_df\u001b[38;5;241m.\u001b[39massign(\n\u001b[1;32m--> 660\u001b[0m     dist_to_prev\u001b[38;5;241m=\u001b[39m\u001b[43mtemp_df\u001b[49m\u001b[38;5;241;43m.\u001b[39;49m\u001b[43mapply\u001b[49m\u001b[43m(\u001b[49m\u001b[38;5;28;43mself\u001b[39;49m\u001b[38;5;241;43m.\u001b[39;49m\u001b[43m_compute_distance\u001b[49m\u001b[43m,\u001b[49m\u001b[43m \u001b[49m\u001b[43maxis\u001b[49m\u001b[38;5;241;43m=\u001b[39;49m\u001b[38;5;241;43m1\u001b[39;49m\u001b[43m)\u001b[49m\n\u001b[0;32m    661\u001b[0m )\n\u001b[0;32m    662\u001b[0m \u001b[38;5;28;01mreturn\u001b[39;00m temp_df[\u001b[38;5;124m\"\u001b[39m\u001b[38;5;124mdist_to_prev\u001b[39m\u001b[38;5;124m\"\u001b[39m]\u001b[38;5;241m.\u001b[39msum()\n",
      "File \u001b[1;32mC:\\ProgramData\\Miniconda3\\lib\\site-packages\\geopandas\\geodataframe.py:1390\u001b[0m, in \u001b[0;36mGeoDataFrame.apply\u001b[1;34m(self, func, axis, raw, result_type, args, **kwargs)\u001b[0m\n\u001b[0;32m   1388\u001b[0m \u001b[38;5;129m@doc\u001b[39m(pd\u001b[38;5;241m.\u001b[39mDataFrame)\n\u001b[0;32m   1389\u001b[0m \u001b[38;5;28;01mdef\u001b[39;00m \u001b[38;5;21mapply\u001b[39m(\u001b[38;5;28mself\u001b[39m, func, axis\u001b[38;5;241m=\u001b[39m\u001b[38;5;241m0\u001b[39m, raw\u001b[38;5;241m=\u001b[39m\u001b[38;5;28;01mFalse\u001b[39;00m, result_type\u001b[38;5;241m=\u001b[39m\u001b[38;5;28;01mNone\u001b[39;00m, args\u001b[38;5;241m=\u001b[39m(), \u001b[38;5;241m*\u001b[39m\u001b[38;5;241m*\u001b[39mkwargs):\n\u001b[1;32m-> 1390\u001b[0m     result \u001b[38;5;241m=\u001b[39m \u001b[38;5;28msuper\u001b[39m()\u001b[38;5;241m.\u001b[39mapply(\n\u001b[0;32m   1391\u001b[0m         func, axis\u001b[38;5;241m=\u001b[39maxis, raw\u001b[38;5;241m=\u001b[39mraw, result_type\u001b[38;5;241m=\u001b[39mresult_type, args\u001b[38;5;241m=\u001b[39margs, \u001b[38;5;241m*\u001b[39m\u001b[38;5;241m*\u001b[39mkwargs\n\u001b[0;32m   1392\u001b[0m     )\n\u001b[0;32m   1393\u001b[0m     \u001b[38;5;28;01mif\u001b[39;00m (\n\u001b[0;32m   1394\u001b[0m         \u001b[38;5;28misinstance\u001b[39m(result, GeoDataFrame)\n\u001b[0;32m   1395\u001b[0m         \u001b[38;5;129;01mand\u001b[39;00m \u001b[38;5;28mself\u001b[39m\u001b[38;5;241m.\u001b[39m_geometry_column_name \u001b[38;5;129;01min\u001b[39;00m result\u001b[38;5;241m.\u001b[39mcolumns\n\u001b[0;32m   1396\u001b[0m         \u001b[38;5;129;01mand\u001b[39;00m \u001b[38;5;28misinstance\u001b[39m(result[\u001b[38;5;28mself\u001b[39m\u001b[38;5;241m.\u001b[39m_geometry_column_name]\u001b[38;5;241m.\u001b[39mdtype, GeometryDtype)\n\u001b[0;32m   1397\u001b[0m     ):\n\u001b[0;32m   1398\u001b[0m         \u001b[38;5;66;03m# apply calls _constructor which resets geom col name to geometry\u001b[39;00m\n\u001b[0;32m   1399\u001b[0m         result\u001b[38;5;241m.\u001b[39m_geometry_column_name \u001b[38;5;241m=\u001b[39m \u001b[38;5;28mself\u001b[39m\u001b[38;5;241m.\u001b[39m_geometry_column_name\n",
      "File \u001b[1;32mC:\\ProgramData\\Miniconda3\\lib\\site-packages\\pandas\\core\\frame.py:8839\u001b[0m, in \u001b[0;36mDataFrame.apply\u001b[1;34m(self, func, axis, raw, result_type, args, **kwargs)\u001b[0m\n\u001b[0;32m   8828\u001b[0m \u001b[38;5;28;01mfrom\u001b[39;00m \u001b[38;5;21;01mpandas\u001b[39;00m\u001b[38;5;21;01m.\u001b[39;00m\u001b[38;5;21;01mcore\u001b[39;00m\u001b[38;5;21;01m.\u001b[39;00m\u001b[38;5;21;01mapply\u001b[39;00m \u001b[38;5;28;01mimport\u001b[39;00m frame_apply\n\u001b[0;32m   8830\u001b[0m op \u001b[38;5;241m=\u001b[39m frame_apply(\n\u001b[0;32m   8831\u001b[0m     \u001b[38;5;28mself\u001b[39m,\n\u001b[0;32m   8832\u001b[0m     func\u001b[38;5;241m=\u001b[39mfunc,\n\u001b[1;32m   (...)\u001b[0m\n\u001b[0;32m   8837\u001b[0m     kwargs\u001b[38;5;241m=\u001b[39mkwargs,\n\u001b[0;32m   8838\u001b[0m )\n\u001b[1;32m-> 8839\u001b[0m \u001b[38;5;28;01mreturn\u001b[39;00m \u001b[43mop\u001b[49m\u001b[38;5;241;43m.\u001b[39;49m\u001b[43mapply\u001b[49m\u001b[43m(\u001b[49m\u001b[43m)\u001b[49m\u001b[38;5;241m.\u001b[39m__finalize__(\u001b[38;5;28mself\u001b[39m, method\u001b[38;5;241m=\u001b[39m\u001b[38;5;124m\"\u001b[39m\u001b[38;5;124mapply\u001b[39m\u001b[38;5;124m\"\u001b[39m)\n",
      "File \u001b[1;32mC:\\ProgramData\\Miniconda3\\lib\\site-packages\\pandas\\core\\apply.py:727\u001b[0m, in \u001b[0;36mFrameApply.apply\u001b[1;34m(self)\u001b[0m\n\u001b[0;32m    724\u001b[0m \u001b[38;5;28;01melif\u001b[39;00m \u001b[38;5;28mself\u001b[39m\u001b[38;5;241m.\u001b[39mraw:\n\u001b[0;32m    725\u001b[0m     \u001b[38;5;28;01mreturn\u001b[39;00m \u001b[38;5;28mself\u001b[39m\u001b[38;5;241m.\u001b[39mapply_raw()\n\u001b[1;32m--> 727\u001b[0m \u001b[38;5;28;01mreturn\u001b[39;00m \u001b[38;5;28;43mself\u001b[39;49m\u001b[38;5;241;43m.\u001b[39;49m\u001b[43mapply_standard\u001b[49m\u001b[43m(\u001b[49m\u001b[43m)\u001b[49m\n",
      "File \u001b[1;32mC:\\ProgramData\\Miniconda3\\lib\\site-packages\\pandas\\core\\apply.py:851\u001b[0m, in \u001b[0;36mFrameApply.apply_standard\u001b[1;34m(self)\u001b[0m\n\u001b[0;32m    850\u001b[0m \u001b[38;5;28;01mdef\u001b[39;00m \u001b[38;5;21mapply_standard\u001b[39m(\u001b[38;5;28mself\u001b[39m):\n\u001b[1;32m--> 851\u001b[0m     results, res_index \u001b[38;5;241m=\u001b[39m \u001b[38;5;28;43mself\u001b[39;49m\u001b[38;5;241;43m.\u001b[39;49m\u001b[43mapply_series_generator\u001b[49m\u001b[43m(\u001b[49m\u001b[43m)\u001b[49m\n\u001b[0;32m    853\u001b[0m     \u001b[38;5;66;03m# wrap results\u001b[39;00m\n\u001b[0;32m    854\u001b[0m     \u001b[38;5;28;01mreturn\u001b[39;00m \u001b[38;5;28mself\u001b[39m\u001b[38;5;241m.\u001b[39mwrap_results(results, res_index)\n",
      "File \u001b[1;32mC:\\ProgramData\\Miniconda3\\lib\\site-packages\\pandas\\core\\apply.py:867\u001b[0m, in \u001b[0;36mFrameApply.apply_series_generator\u001b[1;34m(self)\u001b[0m\n\u001b[0;32m    864\u001b[0m \u001b[38;5;28;01mwith\u001b[39;00m option_context(\u001b[38;5;124m\"\u001b[39m\u001b[38;5;124mmode.chained_assignment\u001b[39m\u001b[38;5;124m\"\u001b[39m, \u001b[38;5;28;01mNone\u001b[39;00m):\n\u001b[0;32m    865\u001b[0m     \u001b[38;5;28;01mfor\u001b[39;00m i, v \u001b[38;5;129;01min\u001b[39;00m \u001b[38;5;28menumerate\u001b[39m(series_gen):\n\u001b[0;32m    866\u001b[0m         \u001b[38;5;66;03m# ignore SettingWithCopy here in case the user mutates\u001b[39;00m\n\u001b[1;32m--> 867\u001b[0m         results[i] \u001b[38;5;241m=\u001b[39m \u001b[38;5;28;43mself\u001b[39;49m\u001b[38;5;241;43m.\u001b[39;49m\u001b[43mf\u001b[49m\u001b[43m(\u001b[49m\u001b[43mv\u001b[49m\u001b[43m)\u001b[49m\n\u001b[0;32m    868\u001b[0m         \u001b[38;5;28;01mif\u001b[39;00m \u001b[38;5;28misinstance\u001b[39m(results[i], ABCSeries):\n\u001b[0;32m    869\u001b[0m             \u001b[38;5;66;03m# If we have a view on v, we need to make a copy because\u001b[39;00m\n\u001b[0;32m    870\u001b[0m             \u001b[38;5;66;03m#  series_generator will swap out the underlying data\u001b[39;00m\n\u001b[0;32m    871\u001b[0m             results[i] \u001b[38;5;241m=\u001b[39m results[i]\u001b[38;5;241m.\u001b[39mcopy(deep\u001b[38;5;241m=\u001b[39m\u001b[38;5;28;01mFalse\u001b[39;00m)\n",
      "File \u001b[1;32mC:\\ProgramData\\Miniconda3\\lib\\site-packages\\movingpandas\\trajectory.py:633\u001b[0m, in \u001b[0;36mTrajectory._compute_distance\u001b[1;34m(self, row)\u001b[0m\n\u001b[0;32m    631\u001b[0m     \u001b[38;5;28;01mreturn\u001b[39;00m \u001b[38;5;241m0.0\u001b[39m\n\u001b[0;32m    632\u001b[0m \u001b[38;5;28;01mif\u001b[39;00m \u001b[38;5;28mself\u001b[39m\u001b[38;5;241m.\u001b[39mis_latlon:\n\u001b[1;32m--> 633\u001b[0m     dist_meters \u001b[38;5;241m=\u001b[39m \u001b[43mmeasure_distance_geodesic\u001b[49m\u001b[43m(\u001b[49m\u001b[43mpt0\u001b[49m\u001b[43m,\u001b[49m\u001b[43m \u001b[49m\u001b[43mpt1\u001b[49m\u001b[43m)\u001b[49m\n\u001b[0;32m    634\u001b[0m \u001b[38;5;28;01melse\u001b[39;00m:  \u001b[38;5;66;03m# The following distance will be in CRS units that might not be meters!\u001b[39;00m\n\u001b[0;32m    635\u001b[0m     dist_meters \u001b[38;5;241m=\u001b[39m measure_distance_euclidean(pt0, pt1)\n",
      "File \u001b[1;32mC:\\ProgramData\\Miniconda3\\lib\\site-packages\\movingpandas\\geometry_utils.py:71\u001b[0m, in \u001b[0;36mmeasure_distance_geodesic\u001b[1;34m(point1, point2)\u001b[0m\n\u001b[0;32m     69\u001b[0m lat1 \u001b[38;5;241m=\u001b[39m \u001b[38;5;28mfloat\u001b[39m(point1\u001b[38;5;241m.\u001b[39my)\n\u001b[0;32m     70\u001b[0m lat2 \u001b[38;5;241m=\u001b[39m \u001b[38;5;28mfloat\u001b[39m(point2\u001b[38;5;241m.\u001b[39my)\n\u001b[1;32m---> 71\u001b[0m dist \u001b[38;5;241m=\u001b[39m \u001b[43mdistance\u001b[49m\u001b[38;5;241;43m.\u001b[39;49m\u001b[43mdistance\u001b[49m\u001b[43m(\u001b[49m\n\u001b[0;32m     72\u001b[0m \u001b[43m    \u001b[49m\u001b[43m(\u001b[49m\u001b[43mlat1\u001b[49m\u001b[43m,\u001b[49m\u001b[43m \u001b[49m\u001b[43mlon1\u001b[49m\u001b[43m)\u001b[49m\u001b[43m,\u001b[49m\u001b[43m \u001b[49m\u001b[43m(\u001b[49m\u001b[43mlat2\u001b[49m\u001b[43m,\u001b[49m\u001b[43m \u001b[49m\u001b[43mlon2\u001b[49m\u001b[43m)\u001b[49m\n\u001b[0;32m     73\u001b[0m \u001b[43m\u001b[49m\u001b[43m)\u001b[49m\u001b[38;5;241m.\u001b[39mmeters  \u001b[38;5;66;03m# uses geodesic dist and defaults to WGS84\u001b[39;00m\n\u001b[0;32m     74\u001b[0m \u001b[38;5;28;01mreturn\u001b[39;00m dist\n",
      "File \u001b[1;32mC:\\ProgramData\\Miniconda3\\lib\\site-packages\\geopy\\distance.py:522\u001b[0m, in \u001b[0;36mgeodesic.__init__\u001b[1;34m(self, *args, **kwargs)\u001b[0m\n\u001b[0;32m    520\u001b[0m \u001b[38;5;28mself\u001b[39m\u001b[38;5;241m.\u001b[39mset_ellipsoid(kwargs\u001b[38;5;241m.\u001b[39mpop(\u001b[38;5;124m'\u001b[39m\u001b[38;5;124mellipsoid\u001b[39m\u001b[38;5;124m'\u001b[39m, \u001b[38;5;124m'\u001b[39m\u001b[38;5;124mWGS-84\u001b[39m\u001b[38;5;124m'\u001b[39m))\n\u001b[0;32m    521\u001b[0m major, minor, f \u001b[38;5;241m=\u001b[39m \u001b[38;5;28mself\u001b[39m\u001b[38;5;241m.\u001b[39mELLIPSOID\n\u001b[1;32m--> 522\u001b[0m \u001b[38;5;28msuper\u001b[39m()\u001b[38;5;241m.\u001b[39m\u001b[38;5;21m__init__\u001b[39m(\u001b[38;5;241m*\u001b[39margs, \u001b[38;5;241m*\u001b[39m\u001b[38;5;241m*\u001b[39mkwargs)\n",
      "File \u001b[1;32mC:\\ProgramData\\Miniconda3\\lib\\site-packages\\geopy\\distance.py:276\u001b[0m, in \u001b[0;36mDistance.__init__\u001b[1;34m(self, *args, **kwargs)\u001b[0m\n\u001b[0;32m    274\u001b[0m \u001b[38;5;28;01melif\u001b[39;00m \u001b[38;5;28mlen\u001b[39m(args) \u001b[38;5;241m>\u001b[39m \u001b[38;5;241m1\u001b[39m:\n\u001b[0;32m    275\u001b[0m     \u001b[38;5;28;01mfor\u001b[39;00m a, b \u001b[38;5;129;01min\u001b[39;00m util\u001b[38;5;241m.\u001b[39mpairwise(args):\n\u001b[1;32m--> 276\u001b[0m         kilometers \u001b[38;5;241m+\u001b[39m\u001b[38;5;241m=\u001b[39m \u001b[38;5;28;43mself\u001b[39;49m\u001b[38;5;241;43m.\u001b[39;49m\u001b[43mmeasure\u001b[49m\u001b[43m(\u001b[49m\u001b[43ma\u001b[49m\u001b[43m,\u001b[49m\u001b[43m \u001b[49m\u001b[43mb\u001b[49m\u001b[43m)\u001b[49m\n\u001b[0;32m    278\u001b[0m kilometers \u001b[38;5;241m+\u001b[39m\u001b[38;5;241m=\u001b[39m units\u001b[38;5;241m.\u001b[39mkilometers(\u001b[38;5;241m*\u001b[39m\u001b[38;5;241m*\u001b[39mkwargs)\n\u001b[0;32m    279\u001b[0m \u001b[38;5;28mself\u001b[39m\u001b[38;5;241m.\u001b[39m__kilometers \u001b[38;5;241m=\u001b[39m kilometers\n",
      "File \u001b[1;32mC:\\ProgramData\\Miniconda3\\lib\\site-packages\\geopy\\distance.py:538\u001b[0m, in \u001b[0;36mgeodesic.measure\u001b[1;34m(self, a, b)\u001b[0m\n\u001b[0;32m    537\u001b[0m \u001b[38;5;28;01mdef\u001b[39;00m \u001b[38;5;21mmeasure\u001b[39m(\u001b[38;5;28mself\u001b[39m, a, b):\n\u001b[1;32m--> 538\u001b[0m     a, b \u001b[38;5;241m=\u001b[39m Point(a), \u001b[43mPoint\u001b[49m\u001b[43m(\u001b[49m\u001b[43mb\u001b[49m\u001b[43m)\u001b[49m\n\u001b[0;32m    539\u001b[0m     _ensure_same_altitude(a, b)\n\u001b[0;32m    540\u001b[0m     lat1, lon1 \u001b[38;5;241m=\u001b[39m a\u001b[38;5;241m.\u001b[39mlatitude, a\u001b[38;5;241m.\u001b[39mlongitude\n",
      "File \u001b[1;32mC:\\ProgramData\\Miniconda3\\lib\\site-packages\\geopy\\point.py:175\u001b[0m, in \u001b[0;36mPoint.__new__\u001b[1;34m(cls, latitude, longitude, altitude)\u001b[0m\n\u001b[0;32m    171\u001b[0m             \u001b[38;5;28;01mraise\u001b[39;00m \u001b[38;5;167;01mTypeError\u001b[39;00m(\n\u001b[0;32m    172\u001b[0m                 \u001b[38;5;124m\"\u001b[39m\u001b[38;5;124mFailed to create Point instance from \u001b[39m\u001b[38;5;132;01m%r\u001b[39;00m\u001b[38;5;124m.\u001b[39m\u001b[38;5;124m\"\u001b[39m \u001b[38;5;241m%\u001b[39m (arg,)\n\u001b[0;32m    173\u001b[0m             )\n\u001b[0;32m    174\u001b[0m         \u001b[38;5;28;01melse\u001b[39;00m:\n\u001b[1;32m--> 175\u001b[0m             \u001b[38;5;28;01mreturn\u001b[39;00m \u001b[38;5;28;43mcls\u001b[39;49m\u001b[38;5;241;43m.\u001b[39;49m\u001b[43mfrom_sequence\u001b[49m\u001b[43m(\u001b[49m\u001b[43mseq\u001b[49m\u001b[43m)\u001b[49m\n\u001b[0;32m    177\u001b[0m \u001b[38;5;28;01mif\u001b[39;00m single_arg:\n\u001b[0;32m    178\u001b[0m     \u001b[38;5;28;01mraise\u001b[39;00m \u001b[38;5;167;01mValueError\u001b[39;00m(\n\u001b[0;32m    179\u001b[0m         \u001b[38;5;124m'\u001b[39m\u001b[38;5;124mA single number has been passed to the Point \u001b[39m\u001b[38;5;124m'\u001b[39m\n\u001b[0;32m    180\u001b[0m         \u001b[38;5;124m'\u001b[39m\u001b[38;5;124mconstructor. This is probably a mistake, because \u001b[39m\u001b[38;5;124m'\u001b[39m\n\u001b[1;32m   (...)\u001b[0m\n\u001b[0;32m    184\u001b[0m         \u001b[38;5;124m'\u001b[39m\u001b[38;5;124mto get rid of this error.\u001b[39m\u001b[38;5;124m'\u001b[39m\n\u001b[0;32m    185\u001b[0m     )\n",
      "File \u001b[1;32mC:\\ProgramData\\Miniconda3\\lib\\site-packages\\geopy\\point.py:472\u001b[0m, in \u001b[0;36mPoint.from_sequence\u001b[1;34m(cls, seq)\u001b[0m\n\u001b[0;32m    469\u001b[0m \u001b[38;5;28;01mif\u001b[39;00m \u001b[38;5;28mlen\u001b[39m(args) \u001b[38;5;241m>\u001b[39m \u001b[38;5;241m3\u001b[39m:\n\u001b[0;32m    470\u001b[0m     \u001b[38;5;28;01mraise\u001b[39;00m \u001b[38;5;167;01mValueError\u001b[39;00m(\u001b[38;5;124m'\u001b[39m\u001b[38;5;124mWhen creating a Point from sequence, it \u001b[39m\u001b[38;5;124m'\u001b[39m\n\u001b[0;32m    471\u001b[0m                      \u001b[38;5;124m'\u001b[39m\u001b[38;5;124mmust not have more than 3 items.\u001b[39m\u001b[38;5;124m'\u001b[39m)\n\u001b[1;32m--> 472\u001b[0m \u001b[38;5;28;01mreturn\u001b[39;00m \u001b[38;5;28;43mcls\u001b[39;49m\u001b[43m(\u001b[49m\u001b[38;5;241;43m*\u001b[39;49m\u001b[43margs\u001b[49m\u001b[43m)\u001b[49m\n",
      "File \u001b[1;32mC:\\ProgramData\\Miniconda3\\lib\\site-packages\\geopy\\point.py:188\u001b[0m, in \u001b[0;36mPoint.__new__\u001b[1;34m(cls, latitude, longitude, altitude)\u001b[0m\n\u001b[0;32m    177\u001b[0m \u001b[38;5;28;01mif\u001b[39;00m single_arg:\n\u001b[0;32m    178\u001b[0m     \u001b[38;5;28;01mraise\u001b[39;00m \u001b[38;5;167;01mValueError\u001b[39;00m(\n\u001b[0;32m    179\u001b[0m         \u001b[38;5;124m'\u001b[39m\u001b[38;5;124mA single number has been passed to the Point \u001b[39m\u001b[38;5;124m'\u001b[39m\n\u001b[0;32m    180\u001b[0m         \u001b[38;5;124m'\u001b[39m\u001b[38;5;124mconstructor. This is probably a mistake, because \u001b[39m\u001b[38;5;124m'\u001b[39m\n\u001b[1;32m   (...)\u001b[0m\n\u001b[0;32m    184\u001b[0m         \u001b[38;5;124m'\u001b[39m\u001b[38;5;124mto get rid of this error.\u001b[39m\u001b[38;5;124m'\u001b[39m\n\u001b[0;32m    185\u001b[0m     )\n\u001b[0;32m    187\u001b[0m latitude, longitude, altitude \u001b[38;5;241m=\u001b[39m \\\n\u001b[1;32m--> 188\u001b[0m     \u001b[43m_normalize_coordinates\u001b[49m\u001b[43m(\u001b[49m\u001b[43mlatitude\u001b[49m\u001b[43m,\u001b[49m\u001b[43m \u001b[49m\u001b[43mlongitude\u001b[49m\u001b[43m,\u001b[49m\u001b[43m \u001b[49m\u001b[43maltitude\u001b[49m\u001b[43m)\u001b[49m\n\u001b[0;32m    190\u001b[0m \u001b[38;5;28mself\u001b[39m \u001b[38;5;241m=\u001b[39m \u001b[38;5;28msuper\u001b[39m()\u001b[38;5;241m.\u001b[39m\u001b[38;5;21m__new__\u001b[39m(\u001b[38;5;28mcls\u001b[39m)\n\u001b[0;32m    191\u001b[0m \u001b[38;5;28mself\u001b[39m\u001b[38;5;241m.\u001b[39mlatitude \u001b[38;5;241m=\u001b[39m latitude\n",
      "File \u001b[1;32mC:\\ProgramData\\Miniconda3\\lib\\site-packages\\geopy\\point.py:74\u001b[0m, in \u001b[0;36m_normalize_coordinates\u001b[1;34m(latitude, longitude, altitude)\u001b[0m\n\u001b[0;32m     66\u001b[0m \u001b[38;5;28;01mif\u001b[39;00m \u001b[38;5;28mabs\u001b[39m(latitude) \u001b[38;5;241m>\u001b[39m \u001b[38;5;241m90\u001b[39m:\n\u001b[0;32m     67\u001b[0m     warnings\u001b[38;5;241m.\u001b[39mwarn(\u001b[38;5;124m'\u001b[39m\u001b[38;5;124mLatitude normalization has been prohibited in the newer \u001b[39m\u001b[38;5;124m'\u001b[39m\n\u001b[0;32m     68\u001b[0m                   \u001b[38;5;124m'\u001b[39m\u001b[38;5;124mversions of geopy, because the normalized value happened \u001b[39m\u001b[38;5;124m'\u001b[39m\n\u001b[0;32m     69\u001b[0m                   \u001b[38;5;124m'\u001b[39m\u001b[38;5;124mto be on a different pole, which is probably not what was \u001b[39m\u001b[38;5;124m'\u001b[39m\n\u001b[1;32m   (...)\u001b[0m\n\u001b[0;32m     72\u001b[0m                   \u001b[38;5;124m'\u001b[39m\u001b[38;5;124m(latitude, longitude) or (y, x) in Cartesian terms.\u001b[39m\u001b[38;5;124m'\u001b[39m,\n\u001b[0;32m     73\u001b[0m                   \u001b[38;5;167;01mUserWarning\u001b[39;00m, stacklevel\u001b[38;5;241m=\u001b[39m\u001b[38;5;241m3\u001b[39m)\n\u001b[1;32m---> 74\u001b[0m     \u001b[38;5;28;01mraise\u001b[39;00m \u001b[38;5;167;01mValueError\u001b[39;00m(\u001b[38;5;124m'\u001b[39m\u001b[38;5;124mLatitude must be in the [-90; 90] range.\u001b[39m\u001b[38;5;124m'\u001b[39m)\n\u001b[0;32m     76\u001b[0m \u001b[38;5;28;01mif\u001b[39;00m \u001b[38;5;28mabs\u001b[39m(longitude) \u001b[38;5;241m>\u001b[39m \u001b[38;5;241m180\u001b[39m:\n\u001b[0;32m     77\u001b[0m     \u001b[38;5;66;03m# Longitude normalization is pretty straightforward and doesn't seem\u001b[39;00m\n\u001b[0;32m     78\u001b[0m     \u001b[38;5;66;03m# to be error-prone, so there's nothing to complain about.\u001b[39;00m\n\u001b[0;32m     79\u001b[0m     longitude \u001b[38;5;241m=\u001b[39m _normalize_angle(longitude, \u001b[38;5;241m180.0\u001b[39m)\n",
      "\u001b[1;31mValueError\u001b[0m: Latitude must be in the [-90; 90] range."
     ]
    }
   ],
   "source": [
    "mydb = msql.connect(\n",
    "  host=\"localhost\",\n",
    "  user=\"root\",\n",
    "  password=\"root\",\n",
    "  database=\"trajectories\"\n",
    ")\n",
    "mycursor = mydb.cursor(buffered=True)\n",
    "\n",
    "try:\n",
    "    if mydb.is_connected():\n",
    "\n",
    "        uids_query = \"\"\"SELECT DISTINCT identifier FROM trajectories.gpspoints_sample;\"\"\"\n",
    "        mycursor.execute(uids_query)\n",
    "        uids = mycursor.fetchmany(1000)\n",
    "        stop_points_detection(uids)\n",
    "        mydb.commit()\n",
    "\n",
    "except Error as e:\n",
    "\n",
    "    print(\"Error while connecting to gpspoints:\", e)\n",
    "\n",
    "finally:\n",
    "    if mydb.is_connected():\n",
    "        mycursor.close()\n",
    "        mydb.close()\n",
    "        print(\"MySQL connection is closed\")"
   ]
  }
 ],
 "metadata": {
  "kernelspec": {
   "display_name": "Python 3 (ipykernel)",
   "language": "python",
   "name": "python3"
  },
  "language_info": {
   "codemirror_mode": {
    "name": "ipython",
    "version": 3
   },
   "file_extension": ".py",
   "mimetype": "text/x-python",
   "name": "python",
   "nbconvert_exporter": "python",
   "pygments_lexer": "ipython3",
   "version": "3.9.12"
  }
 },
 "nbformat": 4,
 "nbformat_minor": 5
}
